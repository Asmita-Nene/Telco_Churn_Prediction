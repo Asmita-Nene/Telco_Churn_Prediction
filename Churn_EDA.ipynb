{
 "cells": [
  {
   "cell_type": "markdown",
   "id": "ffb1a723",
   "metadata": {},
   "source": [
    "<h1>Exploratory Data Analysis for model creation</h1>\n",
    "<h4>\n",
    "This dataset is from a fictional Telco (Telecommunications) company providing \n",
    "phone and internet services to ~7,000 customers in California. \n",
    "\n",
    "What is Churn?\n",
    "Churn is when a customer stops using the company’s services. Predicting churn \n",
    "helps identify at-risk customers and improve retention.\n",
    "\n",
    "Goal:\n",
    "Perform Exploratory Data Analysis (EDA) to understand factors affecting churn\n",
    "\n",
    "Target Variable:\n",
    "Churn Label (Yes/No) or Churn Value (1 = churned, 0 = retained)\n",
    "\n",
    "Dataset:\n",
    "7043 rows, 33 columns (customer info, subscriptions, billing, churn status)\n",
    "\n",
    "Churn distribution, service usage patterns are explored\n",
    "to support future churn prediction models.</h4>"
   ]
  },
  {
   "cell_type": "code",
   "execution_count": 67,
   "id": "ae264571",
   "metadata": {},
   "outputs": [],
   "source": [
    "#Libraries for EDA\n",
    "import pandas as pd\n",
    "import numpy as np\n",
    "import seaborn as sns"
   ]
  },
  {
   "cell_type": "code",
   "execution_count": 68,
   "id": "e1d4dbe2",
   "metadata": {},
   "outputs": [
    {
     "name": "stdout",
     "output_type": "stream",
     "text": [
      "(7043, 33)\n"
     ]
    },
    {
     "data": {
      "text/html": [
       "<div>\n",
       "<style scoped>\n",
       "    .dataframe tbody tr th:only-of-type {\n",
       "        vertical-align: middle;\n",
       "    }\n",
       "\n",
       "    .dataframe tbody tr th {\n",
       "        vertical-align: top;\n",
       "    }\n",
       "\n",
       "    .dataframe thead th {\n",
       "        text-align: right;\n",
       "    }\n",
       "</style>\n",
       "<table border=\"1\" class=\"dataframe\">\n",
       "  <thead>\n",
       "    <tr style=\"text-align: right;\">\n",
       "      <th></th>\n",
       "      <th>CustomerID</th>\n",
       "      <th>Count</th>\n",
       "      <th>Country</th>\n",
       "      <th>State</th>\n",
       "      <th>City</th>\n",
       "      <th>Zip Code</th>\n",
       "      <th>Lat Long</th>\n",
       "      <th>Latitude</th>\n",
       "      <th>Longitude</th>\n",
       "      <th>Gender</th>\n",
       "      <th>...</th>\n",
       "      <th>Contract</th>\n",
       "      <th>Paperless Billing</th>\n",
       "      <th>Payment Method</th>\n",
       "      <th>Monthly Charges</th>\n",
       "      <th>Total Charges</th>\n",
       "      <th>Churn Label</th>\n",
       "      <th>Churn Value</th>\n",
       "      <th>Churn Score</th>\n",
       "      <th>CLTV</th>\n",
       "      <th>Churn Reason</th>\n",
       "    </tr>\n",
       "  </thead>\n",
       "  <tbody>\n",
       "    <tr>\n",
       "      <th>0</th>\n",
       "      <td>3668-QPYBK</td>\n",
       "      <td>1</td>\n",
       "      <td>United States</td>\n",
       "      <td>California</td>\n",
       "      <td>Los Angeles</td>\n",
       "      <td>90003</td>\n",
       "      <td>33.964131, -118.272783</td>\n",
       "      <td>33.964131</td>\n",
       "      <td>-118.272783</td>\n",
       "      <td>Male</td>\n",
       "      <td>...</td>\n",
       "      <td>Month-to-month</td>\n",
       "      <td>Yes</td>\n",
       "      <td>Mailed check</td>\n",
       "      <td>53.85</td>\n",
       "      <td>108.15</td>\n",
       "      <td>Yes</td>\n",
       "      <td>1</td>\n",
       "      <td>86</td>\n",
       "      <td>3239</td>\n",
       "      <td>Competitor made better offer</td>\n",
       "    </tr>\n",
       "    <tr>\n",
       "      <th>1</th>\n",
       "      <td>9237-HQITU</td>\n",
       "      <td>1</td>\n",
       "      <td>United States</td>\n",
       "      <td>California</td>\n",
       "      <td>Los Angeles</td>\n",
       "      <td>90005</td>\n",
       "      <td>34.059281, -118.30742</td>\n",
       "      <td>34.059281</td>\n",
       "      <td>-118.307420</td>\n",
       "      <td>Female</td>\n",
       "      <td>...</td>\n",
       "      <td>Month-to-month</td>\n",
       "      <td>Yes</td>\n",
       "      <td>Electronic check</td>\n",
       "      <td>70.70</td>\n",
       "      <td>151.65</td>\n",
       "      <td>Yes</td>\n",
       "      <td>1</td>\n",
       "      <td>67</td>\n",
       "      <td>2701</td>\n",
       "      <td>Moved</td>\n",
       "    </tr>\n",
       "    <tr>\n",
       "      <th>2</th>\n",
       "      <td>9305-CDSKC</td>\n",
       "      <td>1</td>\n",
       "      <td>United States</td>\n",
       "      <td>California</td>\n",
       "      <td>Los Angeles</td>\n",
       "      <td>90006</td>\n",
       "      <td>34.048013, -118.293953</td>\n",
       "      <td>34.048013</td>\n",
       "      <td>-118.293953</td>\n",
       "      <td>Female</td>\n",
       "      <td>...</td>\n",
       "      <td>Month-to-month</td>\n",
       "      <td>Yes</td>\n",
       "      <td>Electronic check</td>\n",
       "      <td>99.65</td>\n",
       "      <td>820.5</td>\n",
       "      <td>Yes</td>\n",
       "      <td>1</td>\n",
       "      <td>86</td>\n",
       "      <td>5372</td>\n",
       "      <td>Moved</td>\n",
       "    </tr>\n",
       "    <tr>\n",
       "      <th>3</th>\n",
       "      <td>7892-POOKP</td>\n",
       "      <td>1</td>\n",
       "      <td>United States</td>\n",
       "      <td>California</td>\n",
       "      <td>Los Angeles</td>\n",
       "      <td>90010</td>\n",
       "      <td>34.062125, -118.315709</td>\n",
       "      <td>34.062125</td>\n",
       "      <td>-118.315709</td>\n",
       "      <td>Female</td>\n",
       "      <td>...</td>\n",
       "      <td>Month-to-month</td>\n",
       "      <td>Yes</td>\n",
       "      <td>Electronic check</td>\n",
       "      <td>104.80</td>\n",
       "      <td>3046.05</td>\n",
       "      <td>Yes</td>\n",
       "      <td>1</td>\n",
       "      <td>84</td>\n",
       "      <td>5003</td>\n",
       "      <td>Moved</td>\n",
       "    </tr>\n",
       "    <tr>\n",
       "      <th>4</th>\n",
       "      <td>0280-XJGEX</td>\n",
       "      <td>1</td>\n",
       "      <td>United States</td>\n",
       "      <td>California</td>\n",
       "      <td>Los Angeles</td>\n",
       "      <td>90015</td>\n",
       "      <td>34.039224, -118.266293</td>\n",
       "      <td>34.039224</td>\n",
       "      <td>-118.266293</td>\n",
       "      <td>Male</td>\n",
       "      <td>...</td>\n",
       "      <td>Month-to-month</td>\n",
       "      <td>Yes</td>\n",
       "      <td>Bank transfer (automatic)</td>\n",
       "      <td>103.70</td>\n",
       "      <td>5036.3</td>\n",
       "      <td>Yes</td>\n",
       "      <td>1</td>\n",
       "      <td>89</td>\n",
       "      <td>5340</td>\n",
       "      <td>Competitor had better devices</td>\n",
       "    </tr>\n",
       "  </tbody>\n",
       "</table>\n",
       "<p>5 rows × 33 columns</p>\n",
       "</div>"
      ],
      "text/plain": [
       "   CustomerID  Count        Country       State         City  Zip Code  \\\n",
       "0  3668-QPYBK      1  United States  California  Los Angeles     90003   \n",
       "1  9237-HQITU      1  United States  California  Los Angeles     90005   \n",
       "2  9305-CDSKC      1  United States  California  Los Angeles     90006   \n",
       "3  7892-POOKP      1  United States  California  Los Angeles     90010   \n",
       "4  0280-XJGEX      1  United States  California  Los Angeles     90015   \n",
       "\n",
       "                 Lat Long   Latitude   Longitude  Gender  ...        Contract  \\\n",
       "0  33.964131, -118.272783  33.964131 -118.272783    Male  ...  Month-to-month   \n",
       "1   34.059281, -118.30742  34.059281 -118.307420  Female  ...  Month-to-month   \n",
       "2  34.048013, -118.293953  34.048013 -118.293953  Female  ...  Month-to-month   \n",
       "3  34.062125, -118.315709  34.062125 -118.315709  Female  ...  Month-to-month   \n",
       "4  34.039224, -118.266293  34.039224 -118.266293    Male  ...  Month-to-month   \n",
       "\n",
       "  Paperless Billing             Payment Method  Monthly Charges Total Charges  \\\n",
       "0               Yes               Mailed check            53.85        108.15   \n",
       "1               Yes           Electronic check            70.70        151.65   \n",
       "2               Yes           Electronic check            99.65         820.5   \n",
       "3               Yes           Electronic check           104.80       3046.05   \n",
       "4               Yes  Bank transfer (automatic)           103.70        5036.3   \n",
       "\n",
       "  Churn Label Churn Value Churn Score  CLTV                   Churn Reason  \n",
       "0         Yes           1          86  3239   Competitor made better offer  \n",
       "1         Yes           1          67  2701                          Moved  \n",
       "2         Yes           1          86  5372                          Moved  \n",
       "3         Yes           1          84  5003                          Moved  \n",
       "4         Yes           1          89  5340  Competitor had better devices  \n",
       "\n",
       "[5 rows x 33 columns]"
      ]
     },
     "execution_count": 68,
     "metadata": {},
     "output_type": "execute_result"
    }
   ],
   "source": [
    "data = pd.read_csv(r\"D:\\Documents\\ML\\FinTech Project\\Telco_customer_churn.csv\")\n",
    "print(data.shape)\n",
    "data.head()"
   ]
  },
  {
   "cell_type": "code",
   "execution_count": 69,
   "id": "b9656205",
   "metadata": {},
   "outputs": [
    {
     "data": {
      "text/plain": [
       "Index(['CustomerID', 'Count', 'Country', 'State', 'City', 'Zip Code',\n",
       "       'Lat Long', 'Latitude', 'Longitude', 'Gender', 'Senior Citizen',\n",
       "       'Partner', 'Dependents', 'Tenure Months', 'Phone Service',\n",
       "       'Multiple Lines', 'Internet Service', 'Online Security',\n",
       "       'Online Backup', 'Device Protection', 'Tech Support', 'Streaming TV',\n",
       "       'Streaming Movies', 'Contract', 'Paperless Billing', 'Payment Method',\n",
       "       'Monthly Charges', 'Total Charges', 'Churn Label', 'Churn Value',\n",
       "       'Churn Score', 'CLTV', 'Churn Reason'],\n",
       "      dtype='object')"
      ]
     },
     "execution_count": 69,
     "metadata": {},
     "output_type": "execute_result"
    }
   ],
   "source": [
    "data.columns"
   ]
  },
  {
   "cell_type": "code",
   "execution_count": 70,
   "id": "2c62f195",
   "metadata": {},
   "outputs": [
    {
     "data": {
      "text/html": [
       "<div>\n",
       "<style scoped>\n",
       "    .dataframe tbody tr th:only-of-type {\n",
       "        vertical-align: middle;\n",
       "    }\n",
       "\n",
       "    .dataframe tbody tr th {\n",
       "        vertical-align: top;\n",
       "    }\n",
       "\n",
       "    .dataframe thead th {\n",
       "        text-align: right;\n",
       "    }\n",
       "</style>\n",
       "<table border=\"1\" class=\"dataframe\">\n",
       "  <thead>\n",
       "    <tr style=\"text-align: right;\">\n",
       "      <th></th>\n",
       "      <th>Country</th>\n",
       "      <th>State</th>\n",
       "      <th>City</th>\n",
       "      <th>Gender</th>\n",
       "      <th>Senior Citizen</th>\n",
       "      <th>Partner</th>\n",
       "      <th>Dependents</th>\n",
       "      <th>Tenure Months</th>\n",
       "      <th>Phone Service</th>\n",
       "      <th>Multiple Lines</th>\n",
       "      <th>...</th>\n",
       "      <th>Streaming TV</th>\n",
       "      <th>Streaming Movies</th>\n",
       "      <th>Contract</th>\n",
       "      <th>Paperless Billing</th>\n",
       "      <th>Payment Method</th>\n",
       "      <th>Monthly Charges</th>\n",
       "      <th>Total Charges</th>\n",
       "      <th>Churn Label</th>\n",
       "      <th>Churn Value</th>\n",
       "      <th>Churn Reason</th>\n",
       "    </tr>\n",
       "  </thead>\n",
       "  <tbody>\n",
       "    <tr>\n",
       "      <th>0</th>\n",
       "      <td>United States</td>\n",
       "      <td>California</td>\n",
       "      <td>Los Angeles</td>\n",
       "      <td>Male</td>\n",
       "      <td>No</td>\n",
       "      <td>No</td>\n",
       "      <td>No</td>\n",
       "      <td>2</td>\n",
       "      <td>Yes</td>\n",
       "      <td>No</td>\n",
       "      <td>...</td>\n",
       "      <td>No</td>\n",
       "      <td>No</td>\n",
       "      <td>Month-to-month</td>\n",
       "      <td>Yes</td>\n",
       "      <td>Mailed check</td>\n",
       "      <td>53.85</td>\n",
       "      <td>108.15</td>\n",
       "      <td>Yes</td>\n",
       "      <td>1</td>\n",
       "      <td>Competitor made better offer</td>\n",
       "    </tr>\n",
       "    <tr>\n",
       "      <th>1</th>\n",
       "      <td>United States</td>\n",
       "      <td>California</td>\n",
       "      <td>Los Angeles</td>\n",
       "      <td>Female</td>\n",
       "      <td>No</td>\n",
       "      <td>No</td>\n",
       "      <td>Yes</td>\n",
       "      <td>2</td>\n",
       "      <td>Yes</td>\n",
       "      <td>No</td>\n",
       "      <td>...</td>\n",
       "      <td>No</td>\n",
       "      <td>No</td>\n",
       "      <td>Month-to-month</td>\n",
       "      <td>Yes</td>\n",
       "      <td>Electronic check</td>\n",
       "      <td>70.70</td>\n",
       "      <td>151.65</td>\n",
       "      <td>Yes</td>\n",
       "      <td>1</td>\n",
       "      <td>Moved</td>\n",
       "    </tr>\n",
       "    <tr>\n",
       "      <th>2</th>\n",
       "      <td>United States</td>\n",
       "      <td>California</td>\n",
       "      <td>Los Angeles</td>\n",
       "      <td>Female</td>\n",
       "      <td>No</td>\n",
       "      <td>No</td>\n",
       "      <td>Yes</td>\n",
       "      <td>8</td>\n",
       "      <td>Yes</td>\n",
       "      <td>Yes</td>\n",
       "      <td>...</td>\n",
       "      <td>Yes</td>\n",
       "      <td>Yes</td>\n",
       "      <td>Month-to-month</td>\n",
       "      <td>Yes</td>\n",
       "      <td>Electronic check</td>\n",
       "      <td>99.65</td>\n",
       "      <td>820.5</td>\n",
       "      <td>Yes</td>\n",
       "      <td>1</td>\n",
       "      <td>Moved</td>\n",
       "    </tr>\n",
       "    <tr>\n",
       "      <th>3</th>\n",
       "      <td>United States</td>\n",
       "      <td>California</td>\n",
       "      <td>Los Angeles</td>\n",
       "      <td>Female</td>\n",
       "      <td>No</td>\n",
       "      <td>Yes</td>\n",
       "      <td>Yes</td>\n",
       "      <td>28</td>\n",
       "      <td>Yes</td>\n",
       "      <td>Yes</td>\n",
       "      <td>...</td>\n",
       "      <td>Yes</td>\n",
       "      <td>Yes</td>\n",
       "      <td>Month-to-month</td>\n",
       "      <td>Yes</td>\n",
       "      <td>Electronic check</td>\n",
       "      <td>104.80</td>\n",
       "      <td>3046.05</td>\n",
       "      <td>Yes</td>\n",
       "      <td>1</td>\n",
       "      <td>Moved</td>\n",
       "    </tr>\n",
       "    <tr>\n",
       "      <th>4</th>\n",
       "      <td>United States</td>\n",
       "      <td>California</td>\n",
       "      <td>Los Angeles</td>\n",
       "      <td>Male</td>\n",
       "      <td>No</td>\n",
       "      <td>No</td>\n",
       "      <td>Yes</td>\n",
       "      <td>49</td>\n",
       "      <td>Yes</td>\n",
       "      <td>Yes</td>\n",
       "      <td>...</td>\n",
       "      <td>Yes</td>\n",
       "      <td>Yes</td>\n",
       "      <td>Month-to-month</td>\n",
       "      <td>Yes</td>\n",
       "      <td>Bank transfer (automatic)</td>\n",
       "      <td>103.70</td>\n",
       "      <td>5036.3</td>\n",
       "      <td>Yes</td>\n",
       "      <td>1</td>\n",
       "      <td>Competitor had better devices</td>\n",
       "    </tr>\n",
       "  </tbody>\n",
       "</table>\n",
       "<p>5 rows × 25 columns</p>\n",
       "</div>"
      ],
      "text/plain": [
       "         Country       State         City  Gender Senior Citizen Partner  \\\n",
       "0  United States  California  Los Angeles    Male             No      No   \n",
       "1  United States  California  Los Angeles  Female             No      No   \n",
       "2  United States  California  Los Angeles  Female             No      No   \n",
       "3  United States  California  Los Angeles  Female             No     Yes   \n",
       "4  United States  California  Los Angeles    Male             No      No   \n",
       "\n",
       "  Dependents  Tenure Months Phone Service Multiple Lines  ... Streaming TV  \\\n",
       "0         No              2           Yes             No  ...           No   \n",
       "1        Yes              2           Yes             No  ...           No   \n",
       "2        Yes              8           Yes            Yes  ...          Yes   \n",
       "3        Yes             28           Yes            Yes  ...          Yes   \n",
       "4        Yes             49           Yes            Yes  ...          Yes   \n",
       "\n",
       "  Streaming Movies        Contract Paperless Billing  \\\n",
       "0               No  Month-to-month               Yes   \n",
       "1               No  Month-to-month               Yes   \n",
       "2              Yes  Month-to-month               Yes   \n",
       "3              Yes  Month-to-month               Yes   \n",
       "4              Yes  Month-to-month               Yes   \n",
       "\n",
       "              Payment Method Monthly Charges Total Charges Churn Label  \\\n",
       "0               Mailed check           53.85        108.15         Yes   \n",
       "1           Electronic check           70.70        151.65         Yes   \n",
       "2           Electronic check           99.65         820.5         Yes   \n",
       "3           Electronic check          104.80       3046.05         Yes   \n",
       "4  Bank transfer (automatic)          103.70        5036.3         Yes   \n",
       "\n",
       "  Churn Value                   Churn Reason  \n",
       "0           1   Competitor made better offer  \n",
       "1           1                          Moved  \n",
       "2           1                          Moved  \n",
       "3           1                          Moved  \n",
       "4           1  Competitor had better devices  \n",
       "\n",
       "[5 rows x 25 columns]"
      ]
     },
     "execution_count": 70,
     "metadata": {},
     "output_type": "execute_result"
    }
   ],
   "source": [
    "#Removing the columns that are not that important for prediction \n",
    "churn_data = data.drop(labels=[\"CustomerID\", \"Zip Code\", \"Lat Long\", \"Latitude\", \"Longitude\", \"CLTV\", \"Churn Score\", \"Count\"], axis=1)\n",
    "churn_data.head()"
   ]
  },
  {
   "cell_type": "code",
   "execution_count": 71,
   "id": "567a9183",
   "metadata": {},
   "outputs": [
    {
     "data": {
      "text/plain": [
       "Country                 0\n",
       "State                   0\n",
       "City                    0\n",
       "Gender                  0\n",
       "Senior Citizen          0\n",
       "Partner                 0\n",
       "Dependents              0\n",
       "Tenure Months           0\n",
       "Phone Service           0\n",
       "Multiple Lines          0\n",
       "Internet Service        0\n",
       "Online Security         0\n",
       "Online Backup           0\n",
       "Device Protection       0\n",
       "Tech Support            0\n",
       "Streaming TV            0\n",
       "Streaming Movies        0\n",
       "Contract                0\n",
       "Paperless Billing       0\n",
       "Payment Method          0\n",
       "Monthly Charges         0\n",
       "Total Charges           0\n",
       "Churn Label             0\n",
       "Churn Value             0\n",
       "Churn Reason         5174\n",
       "dtype: int64"
      ]
     },
     "execution_count": 71,
     "metadata": {},
     "output_type": "execute_result"
    }
   ],
   "source": [
    "#Check for missing values\n",
    "misisng = churn_data.isna().sum()\n",
    "misisng"
   ]
  },
  {
   "cell_type": "code",
   "execution_count": 72,
   "id": "05895a46",
   "metadata": {},
   "outputs": [
    {
     "data": {
      "text/plain": [
       "Country\n",
       "United States    7043\n",
       "Name: count, dtype: int64"
      ]
     },
     "execution_count": 72,
     "metadata": {},
     "output_type": "execute_result"
    }
   ],
   "source": [
    "churn_data[\"Country\"].value_counts()"
   ]
  },
  {
   "cell_type": "code",
   "execution_count": 73,
   "id": "a370806a",
   "metadata": {},
   "outputs": [],
   "source": [
    "#Drop the country column, as it is the same country in the entire dataset\n",
    "churn_data = churn_data.drop(labels=\"Country\", axis=1)"
   ]
  },
  {
   "cell_type": "code",
   "execution_count": 74,
   "id": "63bd6176",
   "metadata": {},
   "outputs": [
    {
     "data": {
      "text/plain": [
       "State\n",
       "California    7043\n",
       "Name: count, dtype: int64"
      ]
     },
     "execution_count": 74,
     "metadata": {},
     "output_type": "execute_result"
    }
   ],
   "source": [
    "churn_data[\"State\"].value_counts()"
   ]
  },
  {
   "cell_type": "code",
   "execution_count": 75,
   "id": "9de79f30",
   "metadata": {},
   "outputs": [],
   "source": [
    "#Drop the state column as it shows the same state in the entire dataset\n",
    "churn_data = churn_data.drop(labels=\"State\", axis=1)"
   ]
  },
  {
   "cell_type": "code",
   "execution_count": 76,
   "id": "419d6fc1",
   "metadata": {},
   "outputs": [
    {
     "data": {
      "text/plain": [
       "City\n",
       "Los Angeles       305\n",
       "San Diego         150\n",
       "San Jose          112\n",
       "Sacramento        108\n",
       "San Francisco     104\n",
       "                 ... \n",
       "Healdsburg          4\n",
       "Jenner              4\n",
       "Philo               4\n",
       "Point Arena         4\n",
       "Olympic Valley      4\n",
       "Name: count, Length: 1129, dtype: int64"
      ]
     },
     "execution_count": 76,
     "metadata": {},
     "output_type": "execute_result"
    }
   ],
   "source": [
    "churn_data[\"City\"].value_counts()"
   ]
  },
  {
   "cell_type": "code",
   "execution_count": 77,
   "id": "23e01a4d",
   "metadata": {},
   "outputs": [
    {
     "data": {
      "text/html": [
       "<div>\n",
       "<style scoped>\n",
       "    .dataframe tbody tr th:only-of-type {\n",
       "        vertical-align: middle;\n",
       "    }\n",
       "\n",
       "    .dataframe tbody tr th {\n",
       "        vertical-align: top;\n",
       "    }\n",
       "\n",
       "    .dataframe thead th {\n",
       "        text-align: right;\n",
       "    }\n",
       "</style>\n",
       "<table border=\"1\" class=\"dataframe\">\n",
       "  <thead>\n",
       "    <tr style=\"text-align: right;\">\n",
       "      <th></th>\n",
       "      <th>City</th>\n",
       "      <th>Gender</th>\n",
       "      <th>Senior Citizen</th>\n",
       "      <th>Partner</th>\n",
       "      <th>Dependents</th>\n",
       "      <th>Tenure Months</th>\n",
       "      <th>Phone Service</th>\n",
       "      <th>Multiple Lines</th>\n",
       "      <th>Internet Service</th>\n",
       "      <th>Online Security</th>\n",
       "      <th>...</th>\n",
       "      <th>Streaming TV</th>\n",
       "      <th>Streaming Movies</th>\n",
       "      <th>Contract</th>\n",
       "      <th>Paperless Billing</th>\n",
       "      <th>Payment Method</th>\n",
       "      <th>Monthly Charges</th>\n",
       "      <th>Total Charges</th>\n",
       "      <th>Churn Label</th>\n",
       "      <th>Churn Value</th>\n",
       "      <th>Churn Reason</th>\n",
       "    </tr>\n",
       "  </thead>\n",
       "  <tbody>\n",
       "    <tr>\n",
       "      <th>0</th>\n",
       "      <td>Los Angeles</td>\n",
       "      <td>Male</td>\n",
       "      <td>No</td>\n",
       "      <td>No</td>\n",
       "      <td>No</td>\n",
       "      <td>2</td>\n",
       "      <td>Yes</td>\n",
       "      <td>No</td>\n",
       "      <td>DSL</td>\n",
       "      <td>Yes</td>\n",
       "      <td>...</td>\n",
       "      <td>No</td>\n",
       "      <td>No</td>\n",
       "      <td>Month-to-month</td>\n",
       "      <td>Yes</td>\n",
       "      <td>Mailed check</td>\n",
       "      <td>53.85</td>\n",
       "      <td>108.15</td>\n",
       "      <td>Yes</td>\n",
       "      <td>1</td>\n",
       "      <td>Competitor made better offer</td>\n",
       "    </tr>\n",
       "    <tr>\n",
       "      <th>1</th>\n",
       "      <td>Los Angeles</td>\n",
       "      <td>Female</td>\n",
       "      <td>No</td>\n",
       "      <td>No</td>\n",
       "      <td>Yes</td>\n",
       "      <td>2</td>\n",
       "      <td>Yes</td>\n",
       "      <td>No</td>\n",
       "      <td>Fiber optic</td>\n",
       "      <td>No</td>\n",
       "      <td>...</td>\n",
       "      <td>No</td>\n",
       "      <td>No</td>\n",
       "      <td>Month-to-month</td>\n",
       "      <td>Yes</td>\n",
       "      <td>Electronic check</td>\n",
       "      <td>70.70</td>\n",
       "      <td>151.65</td>\n",
       "      <td>Yes</td>\n",
       "      <td>1</td>\n",
       "      <td>Moved</td>\n",
       "    </tr>\n",
       "    <tr>\n",
       "      <th>2</th>\n",
       "      <td>Los Angeles</td>\n",
       "      <td>Female</td>\n",
       "      <td>No</td>\n",
       "      <td>No</td>\n",
       "      <td>Yes</td>\n",
       "      <td>8</td>\n",
       "      <td>Yes</td>\n",
       "      <td>Yes</td>\n",
       "      <td>Fiber optic</td>\n",
       "      <td>No</td>\n",
       "      <td>...</td>\n",
       "      <td>Yes</td>\n",
       "      <td>Yes</td>\n",
       "      <td>Month-to-month</td>\n",
       "      <td>Yes</td>\n",
       "      <td>Electronic check</td>\n",
       "      <td>99.65</td>\n",
       "      <td>820.5</td>\n",
       "      <td>Yes</td>\n",
       "      <td>1</td>\n",
       "      <td>Moved</td>\n",
       "    </tr>\n",
       "    <tr>\n",
       "      <th>3</th>\n",
       "      <td>Los Angeles</td>\n",
       "      <td>Female</td>\n",
       "      <td>No</td>\n",
       "      <td>Yes</td>\n",
       "      <td>Yes</td>\n",
       "      <td>28</td>\n",
       "      <td>Yes</td>\n",
       "      <td>Yes</td>\n",
       "      <td>Fiber optic</td>\n",
       "      <td>No</td>\n",
       "      <td>...</td>\n",
       "      <td>Yes</td>\n",
       "      <td>Yes</td>\n",
       "      <td>Month-to-month</td>\n",
       "      <td>Yes</td>\n",
       "      <td>Electronic check</td>\n",
       "      <td>104.80</td>\n",
       "      <td>3046.05</td>\n",
       "      <td>Yes</td>\n",
       "      <td>1</td>\n",
       "      <td>Moved</td>\n",
       "    </tr>\n",
       "    <tr>\n",
       "      <th>4</th>\n",
       "      <td>Los Angeles</td>\n",
       "      <td>Male</td>\n",
       "      <td>No</td>\n",
       "      <td>No</td>\n",
       "      <td>Yes</td>\n",
       "      <td>49</td>\n",
       "      <td>Yes</td>\n",
       "      <td>Yes</td>\n",
       "      <td>Fiber optic</td>\n",
       "      <td>No</td>\n",
       "      <td>...</td>\n",
       "      <td>Yes</td>\n",
       "      <td>Yes</td>\n",
       "      <td>Month-to-month</td>\n",
       "      <td>Yes</td>\n",
       "      <td>Bank transfer (automatic)</td>\n",
       "      <td>103.70</td>\n",
       "      <td>5036.3</td>\n",
       "      <td>Yes</td>\n",
       "      <td>1</td>\n",
       "      <td>Competitor had better devices</td>\n",
       "    </tr>\n",
       "  </tbody>\n",
       "</table>\n",
       "<p>5 rows × 23 columns</p>\n",
       "</div>"
      ],
      "text/plain": [
       "          City  Gender Senior Citizen Partner Dependents  Tenure Months  \\\n",
       "0  Los Angeles    Male             No      No         No              2   \n",
       "1  Los Angeles  Female             No      No        Yes              2   \n",
       "2  Los Angeles  Female             No      No        Yes              8   \n",
       "3  Los Angeles  Female             No     Yes        Yes             28   \n",
       "4  Los Angeles    Male             No      No        Yes             49   \n",
       "\n",
       "  Phone Service Multiple Lines Internet Service Online Security  ...  \\\n",
       "0           Yes             No              DSL             Yes  ...   \n",
       "1           Yes             No      Fiber optic              No  ...   \n",
       "2           Yes            Yes      Fiber optic              No  ...   \n",
       "3           Yes            Yes      Fiber optic              No  ...   \n",
       "4           Yes            Yes      Fiber optic              No  ...   \n",
       "\n",
       "  Streaming TV Streaming Movies        Contract Paperless Billing  \\\n",
       "0           No               No  Month-to-month               Yes   \n",
       "1           No               No  Month-to-month               Yes   \n",
       "2          Yes              Yes  Month-to-month               Yes   \n",
       "3          Yes              Yes  Month-to-month               Yes   \n",
       "4          Yes              Yes  Month-to-month               Yes   \n",
       "\n",
       "              Payment Method Monthly Charges Total Charges Churn Label  \\\n",
       "0               Mailed check           53.85        108.15         Yes   \n",
       "1           Electronic check           70.70        151.65         Yes   \n",
       "2           Electronic check           99.65         820.5         Yes   \n",
       "3           Electronic check          104.80       3046.05         Yes   \n",
       "4  Bank transfer (automatic)          103.70        5036.3         Yes   \n",
       "\n",
       "   Churn Value                   Churn Reason  \n",
       "0            1   Competitor made better offer  \n",
       "1            1                          Moved  \n",
       "2            1                          Moved  \n",
       "3            1                          Moved  \n",
       "4            1  Competitor had better devices  \n",
       "\n",
       "[5 rows x 23 columns]"
      ]
     },
     "execution_count": 77,
     "metadata": {},
     "output_type": "execute_result"
    }
   ],
   "source": [
    "churn_data.head()"
   ]
  },
  {
   "cell_type": "code",
   "execution_count": 78,
   "id": "fa7a5269",
   "metadata": {},
   "outputs": [
    {
     "data": {
      "text/plain": [
       "Churn Label\n",
       "No     5174\n",
       "Yes    1869\n",
       "Name: count, dtype: int64"
      ]
     },
     "execution_count": 78,
     "metadata": {},
     "output_type": "execute_result"
    }
   ],
   "source": [
    "churn_data[\"Churn Label\"].value_counts()"
   ]
  },
  {
   "cell_type": "markdown",
   "id": "098a9b06",
   "metadata": {},
   "source": [
    "<h3>City Column Influence</h3>"
   ]
  },
  {
   "cell_type": "code",
   "execution_count": 79,
   "id": "4a279651",
   "metadata": {},
   "outputs": [
    {
     "data": {
      "text/plain": [
       "City\n",
       "Fort Jones          100.0\n",
       "Eldridge            100.0\n",
       "Maricopa            100.0\n",
       "Boulder Creek       100.0\n",
       "Riverbank           100.0\n",
       "Twain               100.0\n",
       "Johannesburg        100.0\n",
       "Smith River         100.0\n",
       "Tipton              100.0\n",
       "Wrightwood          100.0\n",
       "South Lake Tahoe    100.0\n",
       "Truckee             100.0\n",
       "Indian Wells         80.0\n",
       "Panorama City        80.0\n",
       "Seeley               80.0\n",
       "San Dimas            80.0\n",
       "Byron                75.0\n",
       "Rio Dell             75.0\n",
       "Running Springs      75.0\n",
       "Quincy               75.0\n",
       "Name: Churn Value, dtype: float64"
      ]
     },
     "execution_count": 79,
     "metadata": {},
     "output_type": "execute_result"
    }
   ],
   "source": [
    "city_churn_rate = (churn_data.groupby(\"City\")[\"Churn Value\"].mean())* 100\n",
    "city_churn_rate = city_churn_rate.sort_values(ascending=False)\n",
    "city_churn_rate.head(20)"
   ]
  },
  {
   "cell_type": "markdown",
   "id": "bb36edfc",
   "metadata": {},
   "source": [
    "This data shows how some cities have a 100 percent of churn rate suggesting that cities may contribute a lot in the churn "
   ]
  },
  {
   "cell_type": "markdown",
   "id": "96ab6f7b",
   "metadata": {},
   "source": [
    "<h3>Gender Column Influence</h3>"
   ]
  },
  {
   "cell_type": "code",
   "execution_count": 80,
   "id": "60477456",
   "metadata": {},
   "outputs": [
    {
     "data": {
      "text/plain": [
       "<Axes: xlabel='Gender', ylabel='count'>"
      ]
     },
     "execution_count": 80,
     "metadata": {},
     "output_type": "execute_result"
    },
    {
     "data": {
      "image/png": "[encoded data removed]",
      "text/plain": [
       "<Figure size 640x480 with 1 Axes>"
      ]
     },
     "metadata": {},
     "output_type": "display_data"
    }
   ],
   "source": [
    "sns.countplot(data=churn_data, x=\"Gender\", hue=\"Churn Label\")"
   ]
  },
  {
   "cell_type": "markdown",
   "id": "0dbeeeff",
   "metadata": {},
   "source": [
    "The gender column will not be significant in predicting the churn as it is balanced for both male and female"
   ]
  },
  {
   "cell_type": "code",
   "execution_count": 81,
   "id": "6a886a43",
   "metadata": {},
   "outputs": [],
   "source": [
    "churn_data = churn_data.drop(labels=\"Gender\", axis=1)"
   ]
  },
  {
   "cell_type": "markdown",
   "id": "963804a5",
   "metadata": {},
   "source": [
    "<h3>Senior Citizen Column Influence</h3>"
   ]
  },
  {
   "cell_type": "code",
   "execution_count": 82,
   "id": "f4a85d4b",
   "metadata": {},
   "outputs": [
    {
     "data": {
      "text/plain": [
       "<Axes: xlabel='Senior Citizen', ylabel='count'>"
      ]
     },
     "execution_count": 82,
     "metadata": {},
     "output_type": "execute_result"
    },
    {
     "data": {
      "image/png": "[encoded data removed]",
      "text/plain": [
       "<Figure size 640x480 with 1 Axes>"
      ]
     },
     "metadata": {},
     "output_type": "display_data"
    }
   ],
   "source": [
    "sns.countplot(data=churn_data, x=\"Senior Citizen\", hue=\"Churn Label\")"
   ]
  },
  {
   "cell_type": "markdown",
   "id": "19d0bcba",
   "metadata": {},
   "source": [
    "As observed, majority people are not senior citizens, and a significant portion of these people churn"
   ]
  },
  {
   "cell_type": "markdown",
   "id": "894dc395",
   "metadata": {},
   "source": [
    "<h3>Partner Column Influence</h3>"
   ]
  },
  {
   "cell_type": "code",
   "execution_count": 83,
   "id": "d3041adf",
   "metadata": {},
   "outputs": [
    {
     "data": {
      "text/plain": [
       "<Axes: xlabel='Partner', ylabel='count'>"
      ]
     },
     "execution_count": 83,
     "metadata": {},
     "output_type": "execute_result"
    },
    {
     "data": {
      "image/png": "[encoded data removed]",
      "text/plain": [
       "<Figure size 640x480 with 1 Axes>"
      ]
     },
     "metadata": {},
     "output_type": "display_data"
    }
   ],
   "source": [
    "sns.countplot(data=churn_data, x=\"Partner\", hue=\"Churn Label\")"
   ]
  },
  {
   "cell_type": "markdown",
   "id": "77e19afa",
   "metadata": {},
   "source": [
    "Majority people who churn generally do not have a partner"
   ]
  },
  {
   "cell_type": "markdown",
   "id": "547987d4",
   "metadata": {},
   "source": [
    "<h3>Dependents Column Influence</h3>"
   ]
  },
  {
   "cell_type": "code",
   "execution_count": 84,
   "id": "96f3ce9e",
   "metadata": {},
   "outputs": [
    {
     "data": {
      "text/plain": [
       "<Axes: xlabel='Dependents', ylabel='count'>"
      ]
     },
     "execution_count": 84,
     "metadata": {},
     "output_type": "execute_result"
    },
    {
     "data": {
      "image/png": "[encoded data removed]",
      "text/plain": [
       "<Figure size 640x480 with 1 Axes>"
      ]
     },
     "metadata": {},
     "output_type": "display_data"
    }
   ],
   "source": [
    "sns.countplot(data=churn_data, x=\"Dependents\", hue=\"Churn Label\")"
   ]
  },
  {
   "cell_type": "markdown",
   "id": "10e479b8",
   "metadata": {},
   "source": [
    "People who have no dependants churn more than those who have dependants. People who do not have dependents make up the majority of customers"
   ]
  },
  {
   "cell_type": "markdown",
   "id": "167b7283",
   "metadata": {},
   "source": [
    "<h3>Tenure Months Column Influence</h3>"
   ]
  },
  {
   "cell_type": "code",
   "execution_count": 85,
   "id": "30c3061f",
   "metadata": {},
   "outputs": [
    {
     "data": {
      "text/plain": [
       "Tenure Months\n",
       "1     613\n",
       "72    362\n",
       "2     238\n",
       "3     200\n",
       "4     176\n",
       "     ... \n",
       "28     57\n",
       "39     56\n",
       "44     51\n",
       "36     50\n",
       "0      11\n",
       "Name: count, Length: 73, dtype: int64"
      ]
     },
     "execution_count": 85,
     "metadata": {},
     "output_type": "execute_result"
    }
   ],
   "source": [
    "churn_data[\"Tenure Months\"].value_counts()"
   ]
  },
  {
   "cell_type": "code",
   "execution_count": 86,
   "id": "fd3175ae",
   "metadata": {},
   "outputs": [
    {
     "data": {
      "text/plain": [
       "<Axes: xlabel='Tenure Months', ylabel='Count'>"
      ]
     },
     "execution_count": 86,
     "metadata": {},
     "output_type": "execute_result"
    },
    {
     "data": {
      "image/png": "[encoded data removed]",
      "text/plain": [
       "<Figure size 640x480 with 1 Axes>"
      ]
     },
     "metadata": {},
     "output_type": "display_data"
    }
   ],
   "source": [
    "sns.histplot(data=churn_data, x=\"Tenure Months\", hue=\"Churn Label\", multiple=\"stack\")  "
   ]
  },
  {
   "cell_type": "markdown",
   "id": "7656de31",
   "metadata": {},
   "source": [
    "Majority people who churn have a tenure less than 10 months"
   ]
  },
  {
   "cell_type": "markdown",
   "id": "7a9449fd",
   "metadata": {},
   "source": [
    "<h3>Phone Service Column Influence</h3>"
   ]
  },
  {
   "cell_type": "code",
   "execution_count": 87,
   "id": "e982352d",
   "metadata": {},
   "outputs": [
    {
     "data": {
      "text/plain": [
       "<Axes: xlabel='Phone Service', ylabel='count'>"
      ]
     },
     "execution_count": 87,
     "metadata": {},
     "output_type": "execute_result"
    },
    {
     "data": {
      "image/png": "[encoded data removed]",
      "text/plain": [
       "<Figure size 640x480 with 1 Axes>"
      ]
     },
     "metadata": {},
     "output_type": "display_data"
    }
   ],
   "source": [
    "sns.countplot(data=churn_data, x=\"Phone Service\", hue=\"Churn Label\")"
   ]
  },
  {
   "cell_type": "markdown",
   "id": "4af81d2c",
   "metadata": {},
   "source": [
    "People who have phone service churn more than those who do not have mobile service."
   ]
  },
  {
   "cell_type": "markdown",
   "id": "ba4b4521",
   "metadata": {},
   "source": [
    "<h3>Multiple Lines Column Influence</h3>"
   ]
  },
  {
   "cell_type": "code",
   "execution_count": 88,
   "id": "29ac85e2",
   "metadata": {},
   "outputs": [
    {
     "data": {
      "text/plain": [
       "<Axes: xlabel='Multiple Lines', ylabel='count'>"
      ]
     },
     "execution_count": 88,
     "metadata": {},
     "output_type": "execute_result"
    },
    {
     "data": {
      "image/png": "[encoded data removed]",
      "text/plain": [
       "<Figure size 640x480 with 1 Axes>"
      ]
     },
     "metadata": {},
     "output_type": "display_data"
    }
   ],
   "source": [
    "sns.countplot(data=churn_data, x=\"Multiple Lines\", hue=\"Churn Label\")"
   ]
  },
  {
   "cell_type": "markdown",
   "id": "5204f452",
   "metadata": {},
   "source": [
    "Customers who have multiple lines and single line churn almost equally and more than those who do not have phone service. This will not be a significant paramter for determining the churn likeliness"
   ]
  },
  {
   "cell_type": "code",
   "execution_count": 89,
   "id": "b6dc0c07",
   "metadata": {},
   "outputs": [
    {
     "data": {
      "text/plain": [
       "Multiple Lines\n",
       "No                  0.250442\n",
       "No phone service    0.249267\n",
       "Yes                 0.286099\n",
       "Name: Churn Value, dtype: float64"
      ]
     },
     "execution_count": 89,
     "metadata": {},
     "output_type": "execute_result"
    }
   ],
   "source": [
    "churn_data.groupby(\"Multiple Lines\")[\"Churn Value\"].mean()"
   ]
  },
  {
   "cell_type": "markdown",
   "id": "3afa5926",
   "metadata": {},
   "source": [
    "The means of these are almost equal, so it is proves that this feature is a weak feature, so we can remove this"
   ]
  },
  {
   "cell_type": "code",
   "execution_count": 90,
   "id": "72ee1932",
   "metadata": {},
   "outputs": [],
   "source": [
    "churn_data = churn_data.drop(\"Multiple Lines\", axis=1)"
   ]
  },
  {
   "cell_type": "markdown",
   "id": "57744968",
   "metadata": {},
   "source": [
    "<h3>Internet Service Column Influence</h3>"
   ]
  },
  {
   "cell_type": "code",
   "execution_count": 91,
   "id": "fcd7f618",
   "metadata": {},
   "outputs": [
    {
     "data": {
      "text/plain": [
       "Internet Service\n",
       "Fiber optic    3096\n",
       "DSL            2421\n",
       "No             1526\n",
       "Name: count, dtype: int64"
      ]
     },
     "execution_count": 91,
     "metadata": {},
     "output_type": "execute_result"
    }
   ],
   "source": [
    "churn_data[\"Internet Service\"].value_counts()"
   ]
  },
  {
   "cell_type": "code",
   "execution_count": 92,
   "id": "a61ec6a5",
   "metadata": {},
   "outputs": [
    {
     "data": {
      "text/plain": [
       "<Axes: xlabel='Internet Service', ylabel='count'>"
      ]
     },
     "execution_count": 92,
     "metadata": {},
     "output_type": "execute_result"
    },
    {
     "data": {
      "image/png": "[encoded data removed]",
      "text/plain": [
       "<Figure size 640x480 with 1 Axes>"
      ]
     },
     "metadata": {},
     "output_type": "display_data"
    }
   ],
   "source": [
    "sns.countplot(data=churn_data, x=\"Internet Service\", hue=\"Churn Label\")"
   ]
  },
  {
   "cell_type": "markdown",
   "id": "2ac23da5",
   "metadata": {},
   "source": [
    "Majority people who churn use Fiber optic service"
   ]
  },
  {
   "cell_type": "markdown",
   "id": "b114e9af",
   "metadata": {},
   "source": [
    "<h3>Online Service</h3>"
   ]
  },
  {
   "cell_type": "code",
   "execution_count": 93,
   "id": "85916533",
   "metadata": {},
   "outputs": [
    {
     "data": {
      "text/plain": [
       "<Axes: xlabel='Online Security', ylabel='count'>"
      ]
     },
     "execution_count": 93,
     "metadata": {},
     "output_type": "execute_result"
    },
    {
     "data": {
      "image/png": "[encoded data removed]",
      "text/plain": [
       "<Figure size 640x480 with 1 Axes>"
      ]
     },
     "metadata": {},
     "output_type": "display_data"
    }
   ],
   "source": [
    "sns.countplot(data=churn_data, x=\"Online Security\", hue=\"Churn Label\")"
   ]
  },
  {
   "cell_type": "markdown",
   "id": "4c2522a3",
   "metadata": {},
   "source": [
    "Majority people who churn have no online security service"
   ]
  },
  {
   "cell_type": "markdown",
   "id": "7e4d3d07",
   "metadata": {},
   "source": [
    "<h3>Online Backup</h3>"
   ]
  },
  {
   "cell_type": "code",
   "execution_count": 94,
   "id": "b27a7e64",
   "metadata": {},
   "outputs": [
    {
     "data": {
      "text/plain": [
       "<Axes: xlabel='Online Backup', ylabel='count'>"
      ]
     },
     "execution_count": 94,
     "metadata": {},
     "output_type": "execute_result"
    },
    {
     "data": {
      "image/png": "[encoded data removed]",
      "text/plain": [
       "<Figure size 640x480 with 1 Axes>"
      ]
     },
     "metadata": {},
     "output_type": "display_data"
    }
   ],
   "source": [
    "sns.countplot(data=churn_data, x=\"Online Backup\", hue=\"Churn Label\")"
   ]
  },
  {
   "cell_type": "markdown",
   "id": "eea9bcf0",
   "metadata": {},
   "source": [
    "Majority people who churn have no online backup"
   ]
  },
  {
   "cell_type": "markdown",
   "id": "ad2a090e",
   "metadata": {},
   "source": [
    "<h3>Device Protection</h3>"
   ]
  },
  {
   "cell_type": "code",
   "execution_count": 95,
   "id": "c7887837",
   "metadata": {},
   "outputs": [
    {
     "data": {
      "text/plain": [
       "<Axes: xlabel='Device Protection', ylabel='count'>"
      ]
     },
     "execution_count": 95,
     "metadata": {},
     "output_type": "execute_result"
    },
    {
     "data": {
      "image/png": "[encoded data removed]",
      "text/plain": [
       "<Figure size 640x480 with 1 Axes>"
      ]
     },
     "metadata": {},
     "output_type": "display_data"
    }
   ],
   "source": [
    "sns.countplot(data=churn_data, x=\"Device Protection\", hue=\"Churn Label\")"
   ]
  },
  {
   "cell_type": "markdown",
   "id": "90cb395d",
   "metadata": {},
   "source": [
    "Majority people who churn have no device protection"
   ]
  },
  {
   "cell_type": "markdown",
   "id": "e2ece361",
   "metadata": {},
   "source": [
    "<h3>Tech Support</h3>"
   ]
  },
  {
   "cell_type": "code",
   "execution_count": 96,
   "id": "8808d15d",
   "metadata": {},
   "outputs": [
    {
     "data": {
      "text/plain": [
       "<Axes: xlabel='Tech Support', ylabel='count'>"
      ]
     },
     "execution_count": 96,
     "metadata": {},
     "output_type": "execute_result"
    },
    {
     "data": {
      "image/png": "[encoded data removed]",
      "text/plain": [
       "<Figure size 640x480 with 1 Axes>"
      ]
     },
     "metadata": {},
     "output_type": "display_data"
    }
   ],
   "source": [
    "sns.countplot(data=churn_data, x=\"Tech Support\", hue=\"Churn Label\")"
   ]
  },
  {
   "cell_type": "markdown",
   "id": "c277743a",
   "metadata": {},
   "source": [
    "Majority people who churn have no tech support plan "
   ]
  },
  {
   "cell_type": "markdown",
   "id": "985c661a",
   "metadata": {},
   "source": [
    "<h3>Streaming TV Column Influence</h3>"
   ]
  },
  {
   "cell_type": "code",
   "execution_count": 97,
   "id": "2961f5b0",
   "metadata": {},
   "outputs": [
    {
     "data": {
      "text/plain": [
       "<Axes: xlabel='Streaming TV', ylabel='count'>"
      ]
     },
     "execution_count": 97,
     "metadata": {},
     "output_type": "execute_result"
    },
    {
     "data": {
      "image/png": "[encoded data removed]",
      "text/plain": [
       "<Figure size 640x480 with 1 Axes>"
      ]
     },
     "metadata": {},
     "output_type": "display_data"
    }
   ],
   "source": [
    "sns.countplot(data=churn_data, x=\"Streaming TV\", hue=\"Churn Label\")"
   ]
  },
  {
   "cell_type": "markdown",
   "id": "cd5efb1b",
   "metadata": {},
   "source": [
    "The people with no internet service churn the least"
   ]
  },
  {
   "cell_type": "markdown",
   "id": "0ebcb902",
   "metadata": {},
   "source": [
    "<h3>Streaming Movies Column Influence</h3>"
   ]
  },
  {
   "cell_type": "code",
   "execution_count": 98,
   "id": "bd82ce42",
   "metadata": {},
   "outputs": [
    {
     "data": {
      "text/plain": [
       "<Axes: xlabel='Streaming Movies', ylabel='count'>"
      ]
     },
     "execution_count": 98,
     "metadata": {},
     "output_type": "execute_result"
    },
    {
     "data": {
      "image/png": "[encoded data removed]",
      "text/plain": [
       "<Figure size 640x480 with 1 Axes>"
      ]
     },
     "metadata": {},
     "output_type": "display_data"
    }
   ],
   "source": [
    "sns.countplot(data=churn_data, x=\"Streaming Movies\", hue=\"Churn Label\")"
   ]
  },
  {
   "cell_type": "markdown",
   "id": "e826c3bb",
   "metadata": {},
   "source": [
    "Both streaming movies and streaming TV appear the same, so we need to check the churn rates of both to check if they are similar so that we can drop one of them to reduce redundancy"
   ]
  },
  {
   "cell_type": "code",
   "execution_count": 99,
   "id": "49538ebd",
   "metadata": {},
   "outputs": [
    {
     "data": {
      "text/plain": [
       "Streaming TV\n",
       "No                     0.335231\n",
       "No internet service    0.074050\n",
       "Yes                    0.300702\n",
       "Name: Churn Value, dtype: float64"
      ]
     },
     "execution_count": 99,
     "metadata": {},
     "output_type": "execute_result"
    }
   ],
   "source": [
    "churn_data.groupby(\"Streaming TV\")[\"Churn Value\"].mean()"
   ]
  },
  {
   "cell_type": "code",
   "execution_count": 100,
   "id": "7b98a825",
   "metadata": {},
   "outputs": [
    {
     "data": {
      "text/plain": [
       "Streaming Movies\n",
       "No                     0.336804\n",
       "No internet service    0.074050\n",
       "Yes                    0.299414\n",
       "Name: Churn Value, dtype: float64"
      ]
     },
     "execution_count": 100,
     "metadata": {},
     "output_type": "execute_result"
    }
   ],
   "source": [
    "churn_data.groupby(\"Streaming Movies\")[\"Churn Value\"].mean()"
   ]
  },
  {
   "cell_type": "markdown",
   "id": "cbca038d",
   "metadata": {},
   "source": [
    "Hence, as both have almost same churn rates, we can drop one of the columns"
   ]
  },
  {
   "cell_type": "code",
   "execution_count": 101,
   "id": "9eec22f0",
   "metadata": {},
   "outputs": [],
   "source": [
    "churn_data = churn_data.drop(labels=\"Streaming Movies\", axis=1)"
   ]
  },
  {
   "cell_type": "markdown",
   "id": "af708c85",
   "metadata": {},
   "source": [
    "<h3>Contract Column Influence</h3>"
   ]
  },
  {
   "cell_type": "code",
   "execution_count": 102,
   "id": "83593075",
   "metadata": {},
   "outputs": [
    {
     "data": {
      "text/plain": [
       "<Axes: xlabel='Contract', ylabel='count'>"
      ]
     },
     "execution_count": 102,
     "metadata": {},
     "output_type": "execute_result"
    },
    {
     "data": {
      "image/png": "[encoded data removed]",
      "text/plain": [
       "<Figure size 640x480 with 1 Axes>"
      ]
     },
     "metadata": {},
     "output_type": "display_data"
    }
   ],
   "source": [
    "sns.countplot(data=churn_data, x=\"Contract\", hue=\"Churn Label\")"
   ]
  },
  {
   "cell_type": "markdown",
   "id": "454d5ef3",
   "metadata": {},
   "source": [
    "People with month to month contract churn the most"
   ]
  },
  {
   "cell_type": "markdown",
   "id": "92e862f2",
   "metadata": {},
   "source": [
    "<h3>Paperless Billing Column Influece</h3>"
   ]
  },
  {
   "cell_type": "code",
   "execution_count": 103,
   "id": "c54df97b",
   "metadata": {},
   "outputs": [
    {
     "data": {
      "text/plain": [
       "<Axes: xlabel='Paperless Billing', ylabel='count'>"
      ]
     },
     "execution_count": 103,
     "metadata": {},
     "output_type": "execute_result"
    },
    {
     "data": {
      "image/png": "[encoded data removed]",
      "text/plain": [
       "<Figure size 640x480 with 1 Axes>"
      ]
     },
     "metadata": {},
     "output_type": "display_data"
    }
   ],
   "source": [
    "sns.countplot(data=churn_data, x=\"Paperless Billing\", hue=\"Churn Label\")"
   ]
  },
  {
   "cell_type": "markdown",
   "id": "14748935",
   "metadata": {},
   "source": [
    "People with paperless billing churn more"
   ]
  },
  {
   "cell_type": "markdown",
   "id": "483d09f2",
   "metadata": {},
   "source": [
    "<h3>Payment Method Column Influence</h3>"
   ]
  },
  {
   "cell_type": "code",
   "execution_count": 104,
   "id": "baea22f2",
   "metadata": {},
   "outputs": [
    {
     "data": {
      "text/plain": [
       "<Axes: xlabel='Payment Method', ylabel='count'>"
      ]
     },
     "execution_count": 104,
     "metadata": {},
     "output_type": "execute_result"
    },
    {
     "data": {
      "image/png": "[encoded data removed]",
      "text/plain": [
       "<Figure size 640x480 with 1 Axes>"
      ]
     },
     "metadata": {},
     "output_type": "display_data"
    }
   ],
   "source": [
    "sns.countplot(data=churn_data, x=\"Payment Method\", hue=\"Churn Label\")"
   ]
  },
  {
   "cell_type": "markdown",
   "id": "62fda2a3",
   "metadata": {},
   "source": [
    "Majority people with electronic check payment method churn"
   ]
  },
  {
   "cell_type": "markdown",
   "id": "719b09e0",
   "metadata": {},
   "source": [
    "<h3>Monthly Charge Column Influence</h3>"
   ]
  },
  {
   "cell_type": "code",
   "execution_count": 105,
   "id": "2a9f7369",
   "metadata": {},
   "outputs": [
    {
     "data": {
      "text/plain": [
       "<Axes: xlabel='Monthly Charges', ylabel='Count'>"
      ]
     },
     "execution_count": 105,
     "metadata": {},
     "output_type": "execute_result"
    },
    {
     "data": {
      "image/png": "[encoded data removed]",
      "text/plain": [
       "<Figure size 640x480 with 1 Axes>"
      ]
     },
     "metadata": {},
     "output_type": "display_data"
    }
   ],
   "source": [
    "sns.histplot(data=churn_data, x=\"Monthly Charges\", hue=\"Churn Label\", multiple=\"stack\") "
   ]
  },
  {
   "cell_type": "markdown",
   "id": "3c8bec41",
   "metadata": {},
   "source": [
    "Majority people who do not churn have monthly charges of less than 30"
   ]
  },
  {
   "cell_type": "markdown",
   "id": "81bed28d",
   "metadata": {},
   "source": [
    "<h3>Total Charges Column Influence</h3>"
   ]
  },
  {
   "cell_type": "code",
   "execution_count": 106,
   "id": "6c4ed0c5",
   "metadata": {},
   "outputs": [
    {
     "data": {
      "text/plain": [
       "count     7043\n",
       "unique    6531\n",
       "top       20.2\n",
       "freq        11\n",
       "Name: Total Charges, dtype: object"
      ]
     },
     "execution_count": 106,
     "metadata": {},
     "output_type": "execute_result"
    }
   ],
   "source": [
    "churn_data[\"Total Charges\"].describe()"
   ]
  },
  {
   "cell_type": "markdown",
   "id": "d6399ef4",
   "metadata": {},
   "source": [
    "This column has the numeric data in form of strings, hence first convert it into numerical values"
   ]
  },
  {
   "cell_type": "code",
   "execution_count": 107,
   "id": "ab4c0128",
   "metadata": {},
   "outputs": [],
   "source": [
    "churn_data['Total Charges'] = churn_data['Total Charges'].replace(\" \", np.nan)\n",
    "churn_data['Total Charges'] = pd.to_numeric(churn_data['Total Charges'])"
   ]
  },
  {
   "cell_type": "code",
   "execution_count": 108,
   "id": "1bb0491d",
   "metadata": {},
   "outputs": [
    {
     "data": {
      "text/plain": [
       "<Axes: xlabel='Total Charges', ylabel='Count'>"
      ]
     },
     "execution_count": 108,
     "metadata": {},
     "output_type": "execute_result"
    },
    {
     "data": {
      "image/png": "[encoded data removed]",
      "text/plain": [
       "<Figure size 640x480 with 1 Axes>"
      ]
     },
     "metadata": {},
     "output_type": "display_data"
    }
   ],
   "source": [
    "sns.histplot(data=churn_data, x=\"Total Charges\", hue=\"Churn Label\", multiple=\"stack\", bins=10) "
   ]
  },
  {
   "cell_type": "markdown",
   "id": "ddcc9086",
   "metadata": {},
   "source": [
    "Total Charges reflects tenure—new customers (low charges) churn more, while loyal customers (high charges) churn less—so it adds little beyond Tenure Months."
   ]
  },
  {
   "cell_type": "markdown",
   "id": "031ee571",
   "metadata": {},
   "source": [
    "This information is mostly redundant as the same can be understood from the tenure months column, so we can drop this column"
   ]
  },
  {
   "cell_type": "code",
   "execution_count": 109,
   "id": "d4f98c6e",
   "metadata": {},
   "outputs": [],
   "source": [
    "churn_data = churn_data.drop(labels=\"Total Charges\", axis=1)"
   ]
  },
  {
   "cell_type": "markdown",
   "id": "e6d20d66",
   "metadata": {},
   "source": [
    "<h3>Churn Reason Column Influence<h3>"
   ]
  },
  {
   "cell_type": "code",
   "execution_count": 110,
   "id": "82273a92",
   "metadata": {},
   "outputs": [
    {
     "data": {
      "text/plain": [
       "Churn Reason\n",
       "Attitude of support person                   192\n",
       "Competitor offered higher download speeds    189\n",
       "Competitor offered more data                 162\n",
       "Don't know                                   154\n",
       "Competitor made better offer                 140\n",
       "Attitude of service provider                 135\n",
       "Competitor had better devices                130\n",
       "Network reliability                          103\n",
       "Product dissatisfaction                      102\n",
       "Price too high                                98\n",
       "Service dissatisfaction                       89\n",
       "Lack of self-service on Website               88\n",
       "Extra data charges                            57\n",
       "Moved                                         53\n",
       "Limited range of services                     44\n",
       "Long distance charges                         44\n",
       "Lack of affordable download/upload speed      44\n",
       "Poor expertise of phone support               20\n",
       "Poor expertise of online support              19\n",
       "Deceased                                       6\n",
       "Name: count, dtype: int64"
      ]
     },
     "execution_count": 110,
     "metadata": {},
     "output_type": "execute_result"
    }
   ],
   "source": [
    "churn_data[\"Churn Reason\"].value_counts()"
   ]
  },
  {
   "cell_type": "markdown",
   "id": "423db995",
   "metadata": {},
   "source": [
    "This shows that better customer support can help reduce churn."
   ]
  },
  {
   "cell_type": "code",
   "execution_count": 111,
   "id": "6cd12546",
   "metadata": {},
   "outputs": [
    {
     "data": {
      "text/plain": [
       "5174"
      ]
     },
     "execution_count": 111,
     "metadata": {},
     "output_type": "execute_result"
    }
   ],
   "source": [
    "churn_data[\"Churn Reason\"].isna().sum()"
   ]
  },
  {
   "cell_type": "markdown",
   "id": "b671a616",
   "metadata": {},
   "source": [
    "As almost 73% of the data is not known in this column, this column cannot be used for prediction, hence we have to drop the column"
   ]
  },
  {
   "cell_type": "code",
   "execution_count": 112,
   "id": "1e86c029",
   "metadata": {},
   "outputs": [],
   "source": [
    "churn_data = churn_data.drop(labels=\"Churn Reason\", axis=1)"
   ]
  },
  {
   "cell_type": "markdown",
   "id": "081e5240",
   "metadata": {},
   "source": [
    "<h3>Final Data that influences churn</h3>"
   ]
  },
  {
   "cell_type": "code",
   "execution_count": 113,
   "id": "ec4d27b7",
   "metadata": {},
   "outputs": [
    {
     "data": {
      "text/html": [
       "<div>\n",
       "<style scoped>\n",
       "    .dataframe tbody tr th:only-of-type {\n",
       "        vertical-align: middle;\n",
       "    }\n",
       "\n",
       "    .dataframe tbody tr th {\n",
       "        vertical-align: top;\n",
       "    }\n",
       "\n",
       "    .dataframe thead th {\n",
       "        text-align: right;\n",
       "    }\n",
       "</style>\n",
       "<table border=\"1\" class=\"dataframe\">\n",
       "  <thead>\n",
       "    <tr style=\"text-align: right;\">\n",
       "      <th></th>\n",
       "      <th>City</th>\n",
       "      <th>Senior Citizen</th>\n",
       "      <th>Partner</th>\n",
       "      <th>Dependents</th>\n",
       "      <th>Tenure Months</th>\n",
       "      <th>Phone Service</th>\n",
       "      <th>Internet Service</th>\n",
       "      <th>Online Security</th>\n",
       "      <th>Online Backup</th>\n",
       "      <th>Device Protection</th>\n",
       "      <th>Tech Support</th>\n",
       "      <th>Streaming TV</th>\n",
       "      <th>Contract</th>\n",
       "      <th>Paperless Billing</th>\n",
       "      <th>Payment Method</th>\n",
       "      <th>Monthly Charges</th>\n",
       "      <th>Churn Label</th>\n",
       "      <th>Churn Value</th>\n",
       "    </tr>\n",
       "  </thead>\n",
       "  <tbody>\n",
       "    <tr>\n",
       "      <th>0</th>\n",
       "      <td>Los Angeles</td>\n",
       "      <td>No</td>\n",
       "      <td>No</td>\n",
       "      <td>No</td>\n",
       "      <td>2</td>\n",
       "      <td>Yes</td>\n",
       "      <td>DSL</td>\n",
       "      <td>Yes</td>\n",
       "      <td>Yes</td>\n",
       "      <td>No</td>\n",
       "      <td>No</td>\n",
       "      <td>No</td>\n",
       "      <td>Month-to-month</td>\n",
       "      <td>Yes</td>\n",
       "      <td>Mailed check</td>\n",
       "      <td>53.85</td>\n",
       "      <td>Yes</td>\n",
       "      <td>1</td>\n",
       "    </tr>\n",
       "    <tr>\n",
       "      <th>1</th>\n",
       "      <td>Los Angeles</td>\n",
       "      <td>No</td>\n",
       "      <td>No</td>\n",
       "      <td>Yes</td>\n",
       "      <td>2</td>\n",
       "      <td>Yes</td>\n",
       "      <td>Fiber optic</td>\n",
       "      <td>No</td>\n",
       "      <td>No</td>\n",
       "      <td>No</td>\n",
       "      <td>No</td>\n",
       "      <td>No</td>\n",
       "      <td>Month-to-month</td>\n",
       "      <td>Yes</td>\n",
       "      <td>Electronic check</td>\n",
       "      <td>70.70</td>\n",
       "      <td>Yes</td>\n",
       "      <td>1</td>\n",
       "    </tr>\n",
       "    <tr>\n",
       "      <th>2</th>\n",
       "      <td>Los Angeles</td>\n",
       "      <td>No</td>\n",
       "      <td>No</td>\n",
       "      <td>Yes</td>\n",
       "      <td>8</td>\n",
       "      <td>Yes</td>\n",
       "      <td>Fiber optic</td>\n",
       "      <td>No</td>\n",
       "      <td>No</td>\n",
       "      <td>Yes</td>\n",
       "      <td>No</td>\n",
       "      <td>Yes</td>\n",
       "      <td>Month-to-month</td>\n",
       "      <td>Yes</td>\n",
       "      <td>Electronic check</td>\n",
       "      <td>99.65</td>\n",
       "      <td>Yes</td>\n",
       "      <td>1</td>\n",
       "    </tr>\n",
       "    <tr>\n",
       "      <th>3</th>\n",
       "      <td>Los Angeles</td>\n",
       "      <td>No</td>\n",
       "      <td>Yes</td>\n",
       "      <td>Yes</td>\n",
       "      <td>28</td>\n",
       "      <td>Yes</td>\n",
       "      <td>Fiber optic</td>\n",
       "      <td>No</td>\n",
       "      <td>No</td>\n",
       "      <td>Yes</td>\n",
       "      <td>Yes</td>\n",
       "      <td>Yes</td>\n",
       "      <td>Month-to-month</td>\n",
       "      <td>Yes</td>\n",
       "      <td>Electronic check</td>\n",
       "      <td>104.80</td>\n",
       "      <td>Yes</td>\n",
       "      <td>1</td>\n",
       "    </tr>\n",
       "    <tr>\n",
       "      <th>4</th>\n",
       "      <td>Los Angeles</td>\n",
       "      <td>No</td>\n",
       "      <td>No</td>\n",
       "      <td>Yes</td>\n",
       "      <td>49</td>\n",
       "      <td>Yes</td>\n",
       "      <td>Fiber optic</td>\n",
       "      <td>No</td>\n",
       "      <td>Yes</td>\n",
       "      <td>Yes</td>\n",
       "      <td>No</td>\n",
       "      <td>Yes</td>\n",
       "      <td>Month-to-month</td>\n",
       "      <td>Yes</td>\n",
       "      <td>Bank transfer (automatic)</td>\n",
       "      <td>103.70</td>\n",
       "      <td>Yes</td>\n",
       "      <td>1</td>\n",
       "    </tr>\n",
       "  </tbody>\n",
       "</table>\n",
       "</div>"
      ],
      "text/plain": [
       "          City Senior Citizen Partner Dependents  Tenure Months Phone Service  \\\n",
       "0  Los Angeles             No      No         No              2           Yes   \n",
       "1  Los Angeles             No      No        Yes              2           Yes   \n",
       "2  Los Angeles             No      No        Yes              8           Yes   \n",
       "3  Los Angeles             No     Yes        Yes             28           Yes   \n",
       "4  Los Angeles             No      No        Yes             49           Yes   \n",
       "\n",
       "  Internet Service Online Security Online Backup Device Protection  \\\n",
       "0              DSL             Yes           Yes                No   \n",
       "1      Fiber optic              No            No                No   \n",
       "2      Fiber optic              No            No               Yes   \n",
       "3      Fiber optic              No            No               Yes   \n",
       "4      Fiber optic              No           Yes               Yes   \n",
       "\n",
       "  Tech Support Streaming TV        Contract Paperless Billing  \\\n",
       "0           No           No  Month-to-month               Yes   \n",
       "1           No           No  Month-to-month               Yes   \n",
       "2           No          Yes  Month-to-month               Yes   \n",
       "3          Yes          Yes  Month-to-month               Yes   \n",
       "4           No          Yes  Month-to-month               Yes   \n",
       "\n",
       "              Payment Method  Monthly Charges Churn Label  Churn Value  \n",
       "0               Mailed check            53.85         Yes            1  \n",
       "1           Electronic check            70.70         Yes            1  \n",
       "2           Electronic check            99.65         Yes            1  \n",
       "3           Electronic check           104.80         Yes            1  \n",
       "4  Bank transfer (automatic)           103.70         Yes            1  "
      ]
     },
     "execution_count": 113,
     "metadata": {},
     "output_type": "execute_result"
    }
   ],
   "source": [
    "churn_data.head()"
   ]
  },
  {
   "cell_type": "markdown",
   "id": "d6051749",
   "metadata": {},
   "source": [
    "<h3>Now, we need to check the correlation to check which features have a strong correlation with the Churn</h3>"
   ]
  },
  {
   "cell_type": "code",
   "execution_count": 114,
   "id": "2b11bef2",
   "metadata": {},
   "outputs": [],
   "source": [
    "#Library to calculate the mutual informaiton as majority of our features have binary values, pearson correlaion will not give accurate results\n",
    "from sklearn.feature_selection import mutual_info_classif"
   ]
  },
  {
   "cell_type": "markdown",
   "id": "f97d2985",
   "metadata": {},
   "source": [
    "Pearson correlation measures linear relationships between numeric variables and may miss patterns in categorical or binary data. Mutual Information detects any kind of relationship—linear or nonlinear—and works well with categorical variables, making it a better choice for analyzing binary or categorical data."
   ]
  },
  {
   "cell_type": "code",
   "execution_count": 115,
   "id": "d3be15a0",
   "metadata": {},
   "outputs": [],
   "source": [
    "X = churn_data.drop(labels=[\"Churn Label\", \"Churn Value\"], axis=1)\n",
    "y = churn_data[\"Churn Value\"]   #Choosing the numerical version for simplicity of processing by the model"
   ]
  },
  {
   "cell_type": "code",
   "execution_count": 116,
   "id": "24fb116a",
   "metadata": {},
   "outputs": [],
   "source": [
    "#Converting the strings into numerical values\n",
    "for col in X.select_dtypes(include=['object']).columns:\n",
    "    X[col] = X[col].astype('category').cat.codes\n"
   ]
  },
  {
   "cell_type": "code",
   "execution_count": 117,
   "id": "65d90706",
   "metadata": {},
   "outputs": [
    {
     "name": "stdout",
     "output_type": "stream",
     "text": [
      "Contract             0.088427\n",
      "Tenure Months        0.075917\n",
      "Online Security      0.061320\n",
      "Tech Support         0.059556\n",
      "Monthly Charges      0.051981\n",
      "Online Backup        0.050058\n",
      "Internet Service     0.046872\n",
      "Device Protection    0.043519\n",
      "Dependents           0.042922\n",
      "Payment Method       0.034504\n",
      "Streaming TV         0.028833\n",
      "Paperless Billing    0.020258\n",
      "Partner              0.013664\n",
      "Senior Citizen       0.008251\n",
      "City                 0.006603\n",
      "Phone Service        0.000000\n",
      "dtype: float64\n"
     ]
    }
   ],
   "source": [
    "mi_scores = mutual_info_classif(X, y, discrete_features='auto', random_state=42)\n",
    "mi_series = pd.Series(mi_scores, index=X.columns).sort_values(ascending=False)\n",
    "print(mi_series)"
   ]
  },
  {
   "cell_type": "markdown",
   "id": "d093743f",
   "metadata": {},
   "source": [
    "Contract type and tenure are the strongest churn predictors — focus on these for retention strategies.\n",
    "\n",
    "Services related to security, tech support, and internet also play meaningful roles.\n",
    "\n",
    "Some demographic features like partner status and senior citizen age have a weak effect.\n",
    "\n",
    "City and phone service do not provide useful info for predicting churn in this dataset.\n",
    "\n",
    "Features with near-zero MI can be considered for dropping to simplify models."
   ]
  },
  {
   "cell_type": "code",
   "execution_count": 126,
   "id": "31c71190",
   "metadata": {},
   "outputs": [],
   "source": [
    "cols_to_drop = [\"Partner\", \"Senior Citizen\", \"City\", \"Phone Service\", \n",
    "                \"Device Protection\", \"Dependents\", \"Internet Service\", \n",
    "                \"Payment Method\", \"Streaming TV\", \"Paperless Billing\"]\n",
    "\n",
    "churn_data = churn_data.drop(columns=[col for col in cols_to_drop if col in churn_data.columns])\n"
   ]
  },
  {
   "cell_type": "markdown",
   "id": "62551409",
   "metadata": {},
   "source": [
    "<h2>Final Data</h2>"
   ]
  },
  {
   "cell_type": "code",
   "execution_count": 127,
   "id": "f2d1f27e",
   "metadata": {},
   "outputs": [
    {
     "data": {
      "text/html": [
       "<div>\n",
       "<style scoped>\n",
       "    .dataframe tbody tr th:only-of-type {\n",
       "        vertical-align: middle;\n",
       "    }\n",
       "\n",
       "    .dataframe tbody tr th {\n",
       "        vertical-align: top;\n",
       "    }\n",
       "\n",
       "    .dataframe thead th {\n",
       "        text-align: right;\n",
       "    }\n",
       "</style>\n",
       "<table border=\"1\" class=\"dataframe\">\n",
       "  <thead>\n",
       "    <tr style=\"text-align: right;\">\n",
       "      <th></th>\n",
       "      <th>Tenure Months</th>\n",
       "      <th>Online Security</th>\n",
       "      <th>Online Backup</th>\n",
       "      <th>Tech Support</th>\n",
       "      <th>Contract</th>\n",
       "      <th>Monthly Charges</th>\n",
       "      <th>Churn Label</th>\n",
       "      <th>Churn Value</th>\n",
       "    </tr>\n",
       "  </thead>\n",
       "  <tbody>\n",
       "    <tr>\n",
       "      <th>0</th>\n",
       "      <td>2</td>\n",
       "      <td>Yes</td>\n",
       "      <td>Yes</td>\n",
       "      <td>No</td>\n",
       "      <td>Month-to-month</td>\n",
       "      <td>53.85</td>\n",
       "      <td>Yes</td>\n",
       "      <td>1</td>\n",
       "    </tr>\n",
       "    <tr>\n",
       "      <th>1</th>\n",
       "      <td>2</td>\n",
       "      <td>No</td>\n",
       "      <td>No</td>\n",
       "      <td>No</td>\n",
       "      <td>Month-to-month</td>\n",
       "      <td>70.70</td>\n",
       "      <td>Yes</td>\n",
       "      <td>1</td>\n",
       "    </tr>\n",
       "    <tr>\n",
       "      <th>2</th>\n",
       "      <td>8</td>\n",
       "      <td>No</td>\n",
       "      <td>No</td>\n",
       "      <td>No</td>\n",
       "      <td>Month-to-month</td>\n",
       "      <td>99.65</td>\n",
       "      <td>Yes</td>\n",
       "      <td>1</td>\n",
       "    </tr>\n",
       "    <tr>\n",
       "      <th>3</th>\n",
       "      <td>28</td>\n",
       "      <td>No</td>\n",
       "      <td>No</td>\n",
       "      <td>Yes</td>\n",
       "      <td>Month-to-month</td>\n",
       "      <td>104.80</td>\n",
       "      <td>Yes</td>\n",
       "      <td>1</td>\n",
       "    </tr>\n",
       "    <tr>\n",
       "      <th>4</th>\n",
       "      <td>49</td>\n",
       "      <td>No</td>\n",
       "      <td>Yes</td>\n",
       "      <td>No</td>\n",
       "      <td>Month-to-month</td>\n",
       "      <td>103.70</td>\n",
       "      <td>Yes</td>\n",
       "      <td>1</td>\n",
       "    </tr>\n",
       "  </tbody>\n",
       "</table>\n",
       "</div>"
      ],
      "text/plain": [
       "   Tenure Months Online Security Online Backup Tech Support        Contract  \\\n",
       "0              2             Yes           Yes           No  Month-to-month   \n",
       "1              2              No            No           No  Month-to-month   \n",
       "2              8              No            No           No  Month-to-month   \n",
       "3             28              No            No          Yes  Month-to-month   \n",
       "4             49              No           Yes           No  Month-to-month   \n",
       "\n",
       "   Monthly Charges Churn Label  Churn Value  \n",
       "0            53.85         Yes            1  \n",
       "1            70.70         Yes            1  \n",
       "2            99.65         Yes            1  \n",
       "3           104.80         Yes            1  \n",
       "4           103.70         Yes            1  "
      ]
     },
     "execution_count": 127,
     "metadata": {},
     "output_type": "execute_result"
    }
   ],
   "source": [
    "churn_data.head()"
   ]
  },
  {
   "cell_type": "markdown",
   "id": "c0dfaf7e",
   "metadata": {},
   "source": [
    "This data must be exported as csv file for further processes in making a prediction model for churn"
   ]
  },
  {
   "cell_type": "code",
   "execution_count": 128,
   "id": "ac67928c",
   "metadata": {},
   "outputs": [],
   "source": [
    "churn_data.to_csv(path_or_buf=r\"D:\\Documents\\ML\\FinTech Project\\data_after_EDA.csv\")"
   ]
  }
 ],
 "metadata": {
  "kernelspec": {
   "display_name": "Python 3",
   "language": "python",
   "name": "python3"
  },
  "language_info": {
   "codemirror_mode": {
    "name": "ipython",
    "version": 3
   },
   "file_extension": ".py",
   "mimetype": "text/x-python",
   "name": "python",
   "nbconvert_exporter": "python",
   "pygments_lexer": "ipython3",
   "version": "3.12.0"
  }
 },
 "nbformat": 4,
 "nbformat_minor": 5
}
